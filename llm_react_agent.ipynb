{
 "cells": [
  {
   "cell_type": "code",
   "execution_count": 29,
   "id": "b98a4682",
   "metadata": {},
   "outputs": [
    {
     "data": {
      "text/plain": [
       "True"
      ]
     },
     "execution_count": 29,
     "metadata": {},
     "output_type": "execute_result"
    }
   ],
   "source": [
    "from dotenv import load_dotenv , find_dotenv\n",
    "load_dotenv(find_dotenv(),override=True)"
   ]
  },
  {
   "cell_type": "code",
   "execution_count": 30,
   "id": "30ac14a8",
   "metadata": {},
   "outputs": [],
   
  },
  {
   "cell_type": "code",
   "execution_count": 31,
   "id": "f569e376",
   "metadata": {},
   "outputs": [],
   "source": [
    "\n",
 
   ]
  },
  {
   "cell_type": "markdown",
   "id": "8a368137",
   "metadata": {},
   "source": [
    "Creating a ReAct agent"
   ]
  },
  {
   "cell_type": "code",
   "execution_count": 32,
   "id": "2eaa9e68",
   "metadata": {},
   "outputs": [
    {
     "name": "stderr",
     "output_type": "stream",
     "text": [
      "C:\\Users\\HP\\AppData\\Roaming\\Python\\Python312\\site-packages\\langsmith\\client.py:241: LangSmithMissingAPIKeyWarning: API key must be provided when using hosted LangSmith API\n",
      "  warnings.warn(\n"
     ]
    }
   ],
   "source": [
    "from langchain.prompts import PromptTemplate \n",
    "from langchain import hub  \n",
    "from  langchain.agents import Tool,AgentExecutor,initialize_agent, create_react_agent\n",
    "from langchain.tools import DuckDuckGoSearchRun , WikipediaQueryRun \n",
    "from langchain.utilities import WikipediaAPIWrapper \n",
    "from langchain_experimental.tools import PythonREPLTool\n",
    "from langchain_experimental.tools import PythonREPLTool\n",
    "\n",
    "from langchain_google_genai import ChatGoogleGenerativeAI\n",
    "llm = ChatGoogleGenerativeAI(model='gemini-1.5-flash', temperature=0, streaming=True)\n",
    "\n",
    "template =''' \n",
    "Answer the following questions as best you can.\n",
    "Queations :{q}\n",
    "'''\n",
    "prompt_template=PromptTemplate.from_template(template) \n",
    "prompt=hub.pull('hwchase17/react') \n",
    "# print(type(prompt)) \n",
    "# print(prompt.input_variables)\n",
    "# print(prompt.template) \n",
    "#1.Python REPL Tool (for Python code) \n",
    "python_repl=PythonREPLTool(\n",
    "    name='Python REPL',\n",
    "    # func=python_repl.run,\n",
    "    description='Useful when you need to use python to answer a question.You should inout python code.'\n",
    "\n",
    ")\n",
    "\n",
    "\n",
    "#2 . Wikipedia Tool(for searching wikipedia) \n",
    "api_wrapper=WikipediaAPIWrapper() \n",
    "wikipedia = WikipediaQueryRun(api_wrapper=api_wrapper) \n",
    "wikipedia_tool=Tool( \n",
    "                    name='wikipedia',\n",
    "                    func=wikipedia.run ,\n",
    "                    description='Useful for when you need up to a topic,country, or a person on wikipedia'\n",
    "                    ) \n",
    "from langchain.tools import Tool\n",
    "from langchain.utilities import GoogleSearchAPIWrapper\n",
    "\n",
    "google_search = GoogleSearchAPIWrapper()\n",
    "\n",
    "google_tool = Tool(\n",
    "    name=\"Google Search\",\n",
    "    func=google_search.run,\n",
    "    description=\"Useful for answering questions by searching Google for up-to-date information.\"\n",
    ")\n",
    "\n",
    "#4. ArxivAPIWrapper for scientific paper search \n",
    "from langchain.utilities import ArxivAPIWrapper\n",
    "arxiv=ArxivAPIWrapper() \n",
    "arxiv_tool=Tool(\n",
    "    name='ArxivSearch',\n",
    "    func=arxiv.run,\n",
    "    description=\"Useful for searching academic papers, especially on topics related to AI, physics, and computer science.\"\n",
    ")\n",
    "\n",
    "tools=[python_repl,wikipedia_tool,google_tool,arxiv_tool] \n",
    "agent=create_react_agent(llm,tools,prompt) \n",
    "#agent executor is used to run the agent and determines the best tool for the user query\n",
    "agent_executor=AgentExecutor(\n",
    "    agent=agent,\n",
    "    tools=tools,\n",
    "    verbose=True,\n",
    "    #handlin_parseing_errors is important  gracefully handles situations where the agent's output can't be correctly parsed.Instead of crashing or throwing an exception, the agent retries or takes alternative actions.\n",
    "\n",
    "\n",
    "    handle_parsing_errors=True,\n",
    "    max_iterations=10\n",
    ") \n",
    "\n"
   ]
  },
  {
   "cell_type": "markdown",
   "id": "b1be0062",
   "metadata": {},
   "source": [
    "Testing for PythonREPTool"
   ]
  },
  {
   "cell_type": "code",
   "execution_count": 33,
   "id": "136c5e3c",
   "metadata": {},
   "outputs": [
    {
     "name": "stdout",
     "output_type": "stream",
     "text": [
      "\n",
      "\n",
      "\u001b[1m> Entering new AgentExecutor chain...\u001b[0m\n",
      "\u001b[32;1m\u001b[1;3mThought:I need to generate the first 20 prime numbers.  I can do this efficiently using Python.\n",
      "\n",
      "Action: Python REPL\n",
      "\n",
      "Action Input:\n",
      "```python\n",
      "def is_prime(n):\n",
      "  \"\"\"Checks if a number is prime.\"\"\"\n",
      "  if n <= 1:\n",
      "    return False\n",
      "  for i in range(2, int(n**0.5) + 1):\n",
      "    if n % i == 0:\n",
      "      return False\n",
      "  return True\n",
      "\n",
      "primes = []\n",
      "num = 2\n",
      "while len(primes) < 20:\n",
      "  if is_prime(num):\n",
      "    primes.append(num)\n",
      "  num += 1\n",
      "\n",
      "print(primes)\n",
      "```\u001b[0m\u001b[36;1m\u001b[1;3m[2, 3, 5, 7, 11, 13, 17, 19, 23, 29, 31, 37, 41, 43, 47, 53, 59, 61, 67, 71]\n",
      "\u001b[0m\u001b[32;1m\u001b[1;3mThought:I now know the final answer.\n",
      "\n",
      "Final Answer: The first 20 prime numbers are: [2, 3, 5, 7, 11, 13, 17, 19, 23, 29, 31, 37, 41, 43, 47, 53, 59, 61, 67, 71]\u001b[0m\n",
      "\n",
      "\u001b[1m> Finished chain.\u001b[0m\n"
     ]
    }
   ],
   "source": [
    "question='generate first 20 prime numbers' \n",
    "output=agent_executor.invoke(\n",
    "    {\n",
    "        'input':prompt_template.format(q=question)\n",
    "        \n",
    "    }\n",
    ")"
   ]
  },
  {
   "cell_type": "code",
   "execution_count": 34,
   "id": "23921fd6",
   "metadata": {},
   "outputs": [
    {
     "name": "stdout",
     "output_type": "stream",
     "text": [
      " \n",
      "Answer the following questions as best you can.\n",
      "Queations :generate first 20 prime numbers\n",
      "\n",
      "----------------------------------------------------------------------------------------------------\n",
      "The first 20 prime numbers are: [2, 3, 5, 7, 11, 13, 17, 19, 23, 29, 31, 37, 41, 43, 47, 53, 59, 61, 67, 71]\n"
     ]
    }
   ],
   "source": [
    "print(output['input'])\n",
    "print('-'*100)\n",
    "print(output['output'])"
   ]
  },
  {
   "cell_type": "markdown",
   "id": "4a1ceb6b",
   "metadata": {},
   "source": [
    "Testing Google"
   ]
  },
  {
   "cell_type": "code",
   "execution_count": 35,
   "id": "c8de88c0",
   "metadata": {},
   "outputs": [
    {
     "name": "stdout",
     "output_type": "stream",
     "text": [
      "\n",
      "\n",
      "\u001b[1m> Entering new AgentExecutor chain...\u001b[0m\n",
      "\u001b[32;1m\u001b[1;3mThought: I need to find out who won the ICC Cricket World Cup 2023.  A quick Google search should suffice.\n",
      "\n",
      "Action: Google Search\n",
      "Action Input: \"ICC Cricket World Cup 2023 winner\"\u001b[0m\u001b[38;5;200m\u001b[1;3mIn the knockout stage, India and Australia beat New Zealand and South Africa, respectively, to advance to the final, played on 19 November at the Narendra Modi ... Live Cricket Scoreboard: Get India vs Australia Final, cricket scorecard, ICC Cricket World Cup 2023/24 dated November 19, 2023. In the final, Australia defeated India to win a record-extending sixth World Cup title. This match is widely considered to be one of the biggest upsets in World ... Check ICC Cricket World Cup 2023/24 live score, squads, match schedules, points table, fixtures, updates, photos, and videos on ESPNcricinfo. Nov 21, 2023 ... Al Jazeera takes a look at five things that went wrong on the day for India as their winning streak ended at the worst possible time. Official Cricket World Cup website - live matches, scores, news, highlights, commentary, rankings, videos and fixtures from the International Cricket ... Jun 30, 2024 ... India beat South Africa by 7 runs to win ICC T20 World Cup 2024 ... Virat Kohli's 59-ball-76 and Hardik Pandya's three crucial wickets take India ... ICC Cricket World Cup · @cricketworldcup. ·. Apr 9. Hosts Pakistan get their Women's Cricket World Cup 2025 Qualifier off to a winning start : https://icc- ... May 28, 2024 ... Australia will look to pick up where they left off when it came to world titles in 2023. It was the year they lifted the 50-over ICC Cricket ... Mar 5, 2025 ... The T20 World Cup 2022 has concluded, and England emerged as the new champions of the ICC Men's T20 World Cup. In the first semifinal, Pakistan ...\u001b[0m\u001b[32;1m\u001b[1;3mThought: The Google search results clearly state that Australia won the ICC Cricket World Cup 2023.\n",
      "\n",
      "Thought: I now know the final answer.\n",
      "Final Answer: AustraliaFinal Answer: Australia\u001b[0m\n",
      "\n",
      "\u001b[1m> Finished chain.\u001b[0m\n",
      "Australia\n"
     ]
    }
   ],
   "source": [
    "question = \"Who won the ICC Cricket World Cup 2023?\"\n",
    "\n",
    "\n",
    "output = agent_executor.invoke({\n",
    "    'input': question\n",
    "})\n",
    "print(output['output'])\n"
   ]
  },
  {
   "cell_type": "code",
   "execution_count": 36,
   "id": "96b2bf6d",
   "metadata": {},
   "outputs": [
    {
     "name": "stdout",
     "output_type": "stream",
     "text": [
      "Who won the ICC Cricket World Cup 2023?\n",
      "----------------------------------------------------------------------------------------------------\n",
      "Australia\n"
     ]
    }
   ],
   "source": [
    "print(output['input']) \n",
    "print('-'*100)\n",
    "print(output['output'])"
   ]
  },
  {
   "cell_type": "markdown",
   "id": "c8f2b5ea",
   "metadata": {},
   "source": [
    "Testing wikipedia"
   ]
  },
  {
   "cell_type": "code",
   "execution_count": 37,
   "id": "10e6f321",
   "metadata": {},
   "outputs": [
    {
     "name": "stdout",
     "output_type": "stream",
     "text": [
      "\n",
      "\n",
      "\u001b[1m> Entering new AgentExecutor chain...\u001b[0m\n",
      "\u001b[32;1m\u001b[1;3mThought: I need to find information about the history of Aurangzeb. Wikipedia is a good resource for historical figures.\n",
      "\n",
      "Action: wikipedia\n",
      "Action Input: 'Aurangzeb'\u001b[0m\u001b[33;1m\u001b[1;3mPage: Aurangzeb\n",
      "Summary: Alamgir I, (Muhi al-Din Muhammad; 3 November 1618 – 3 March 1707), commonly known by the title Aurangzeb, was the sixth Mughal emperor, reigning from 1658 until his death in 1707. Under his reign, the Mughal Empire reached its greatest extent, with territory spanning nearly the entirety of the Indian subcontinent.\n",
      "Aurangzeb and the Mughals belonged to a branch of the Timurid dynasty.  He held administrative and military posts under his father Shah Jahan (r. 1628–1658) and gained recognition as an accomplished military commander. Aurangzeb served as the viceroy of the Deccan in 1636–1637 and the governor of Gujarat in 1645–1647. He jointly administered the provinces of Multan and Sindh in 1648–1652 and continued expeditions into the neighboring Safavid territories. In September 1657, Shah Jahan nominated his eldest and liberalist son Dara Shikoh as his successor, a move repudiated by Aurangzeb, who proclaimed himself emperor in February 1658. In April 1658, Aurangzeb defeated the allied army of Shikoh and the Kingdom of Marwar at the Battle of Dharmat. Aurangzeb's decisive victory at the Battle of Samugarh in May 1658 cemented his sovereignty and his suzerainty was acknowledged throughout the Empire. After Shah Jahan recovered from illness in July 1658, Aurangzeb declared him incompetent to rule and imprisoned his father in the Agra Fort.\n",
      "Aurangzeb's reign is characterized by a period of rapid military expansion, with several dynasties and states being overthrown by the Mughals. The Mughals also surpassed Qing China as the world's largest economy and biggest manufacturing power. The Mughal military gradually improved and became one of the strongest armies in the world. A staunch Muslim, Aurangzeb is credited with the construction of numerous mosques and patronizing works of Arabic calligraphy. He successfully imposed the Fatawa-i Alamgiri as the principal regulating body of the empire and prohibited religiously forbidden activities in Islam. Although Aurangzeb suppressed several local revolts, he maintained cordial relations with foreign governments.\n",
      "Aurangzeb was the longest reigning Mughal Emperor. His empire was also one of the largest in Indian history. However, his emperorship has a complicated legacy. His critics, citing his actions against the non-Muslims and his conservative view of Islam, argue that he abandoned the legacy of pluralism and tolerance of the earlier Mughal emperors. Others, however, reject these assertions, arguing that he opposed bigotry against Hindus, Sikhs and Shia Muslims and that he employed significantly more Hindus in his imperial bureaucracy than his predecessors.\n",
      "\n",
      "Page: Tomb of Aurangzeb\n",
      "Summary: The Tomb of Aurangzeb is located in Khuldabad, Aurangabad district, Maharashtra, India. In notable contrast to other Mughal tombs, which are large monuments of Mughal architecture, including the Taj Mahal, at his own direction Aurangzeb is buried in an unmarked grave at the complex of the dargah or shrine of Sheikh Zainuddin.\n",
      "\n",
      "\n",
      "\n",
      "Page: Aurangzeb (film)\n",
      "Summary: Aurangzeb is a 2013 Indian Hindi-language action thriller film written and directed by Atul Sabharwal and produced by Aditya Chopra under Yash Raj Films. The film stars Prithviraj Sukumaran, Arjun Kapoor, Rishi Kapoor, Jackie Shroff, Amrita Singh, and Sasha Agha, while Sikander Kher, Kavi Shastri and Swara Bhaskar play supporting roles. The film released on 17 May 2013, and received mixed reviews from critics and audiences.\u001b[0m\u001b[32;1m\u001b[1;3mThought:The Wikipedia article provides a good overview of Aurangzeb's life and reign.  I can answer the question using this information.\n",
      "\n",
      "Thought:I now know the final answer.\n",
      "\n",
      "Final Answer:Aurangzeb (1618-1707) was the sixth Mughal emperor, ruling from 1658 to 1707.  His reign saw the Mughal Empire reach its greatest territorial extent, encompassing nearly all of the Indian subcontinent.  He was a skilled military commander, consolidating power through battles like Dharmat and Samugarh.  His rule was marked by both significant military expansion and economic prosperity, with the Mughal Empire surpassing Qing China as the world's largest economy and manufacturing power at the time.  Aurangzeb was a devout Muslim, known for promoting Islamic practices and constructing mosques. However, his reign is also controversial due to his policies towards non-Muslims, which are viewed by some as intolerant and a departure from the more pluralistic policies of earlier Mughal emperors.  His legacy remains a subject of debate, with some historians highlighting his administrative achievements and others focusing on his religious policies.  He is buried in a relatively unassuming tomb in Khuldabad, Maharashtra, India.\u001b[0m\n",
      "\n",
      "\u001b[1m> Finished chain.\u001b[0m\n"
     ]
    }
   ],
   "source": [
    "question='history of aurangazeb' \n",
    "output=agent_executor.invoke({\n",
    "    'input':prompt_template.format(q=question)\n",
    "})"
   ]
  },
  {
   "cell_type": "code",
   "execution_count": 38,
   "id": "71873164",
   "metadata": {},
   "outputs": [
    {
     "name": "stdout",
     "output_type": "stream",
     "text": [
      " \n",
      "Answer the following questions as best you can.\n",
      "Queations :history of aurangazeb\n",
      "\n",
      "--------------------------------------------------------------------------------------------------------------------------------------------------------------------------------------------------------\n",
      "Aurangzeb (1618-1707) was the sixth Mughal emperor, ruling from 1658 to 1707.  His reign saw the Mughal Empire reach its greatest territorial extent, encompassing nearly all of the Indian subcontinent.  He was a skilled military commander, consolidating power through battles like Dharmat and Samugarh.  His rule was marked by both significant military expansion and economic prosperity, with the Mughal Empire surpassing Qing China as the world's largest economy and manufacturing power at the time.  Aurangzeb was a devout Muslim, known for promoting Islamic practices and constructing mosques. However, his reign is also controversial due to his policies towards non-Muslims, which are viewed by some as intolerant and a departure from the more pluralistic policies of earlier Mughal emperors.  His legacy remains a subject of debate, with some historians highlighting his administrative achievements and others focusing on his religious policies.  He is buried in a relatively unassuming tomb in Khuldabad, Maharashtra, India.\n"
     ]
    }
   ],
   "source": [
    "print(output['input']) \n",
    "print('-'*200)\n",
    "print(output['output'])"
   ]
  },
  {
   "cell_type": "markdown",
   "id": "52d89fff",
   "metadata": {},
   "source": [
    "Testing for Scientific Research Paper"
   ]
  },
  {
   "cell_type": "code",
   "execution_count": 39,
   "id": "fcada2d9",
   "metadata": {},
   "outputs": [
    {
     "name": "stdout",
     "output_type": "stream",
     "text": [
      "\n",
      "\n",
      "\u001b[1m> Entering new AgentExecutor chain...\u001b[0m\n",
      "\u001b[32;1m\u001b[1;3mThought: I need to search for relevant research papers on reinforcement learning and lunar exploration.  ArxivSearch seems like the best tool for this.\n",
      "\n",
      "Action: ArxivSearch\n",
      "Action Input: \"reinforcement learning lunar exploration\"\u001b[0m\u001b[36;1m\u001b[1;3mPublished: 2023-06-17\n",
      "Title: Vanishing Bias Heuristic-guided Reinforcement Learning Algorithm\n",
      "Authors: Qinru Li, Hao Xiang\n",
      "Summary: Reinforcement Learning has achieved tremendous success in the many Atari\n",
      "games. In this paper we explored with the lunar lander environment and\n",
      "implemented classical methods including Q-Learning, SARSA, MC as well as tiling\n",
      "coding. We also implemented Neural Network based methods including DQN, Double\n",
      "DQN, Clipped DQN. On top of these, we proposed a new algorithm called Heuristic\n",
      "RL which utilizes heuristic to guide the early stage training while alleviating\n",
      "the introduced human bias. Our experiments showed promising results for our\n",
      "proposed methods in the lunar lander environment.\n",
      "\n",
      "Published: 2020-09-21\n",
      "Title: RL STaR Platform: Reinforcement Learning for Simulation based Training of Robots\n",
      "Authors: Tamir Blum, Gabin Paillet, Mickael Laine, Kazuya Yoshida\n",
      "Summary: Reinforcement learning (RL) is a promising field to enhance robotic autonomy\n",
      "and decision making capabilities for space robotics, something which is\n",
      "challenging with traditional techniques due to stochasticity and uncertainty\n",
      "within the environment. RL can be used to enable lunar cave exploration with\n",
      "infrequent human feedback, faster and safer lunar surface locomotion or the\n",
      "coordination and collaboration of multi-robot systems. However, there are many\n",
      "hurdles making research challenging for space robotic applications using RL and\n",
      "machine learning, particularly due to insufficient resources for traditional\n",
      "robotics simulators like CoppeliaSim. Our solution to this is an open source\n",
      "modular platform called Reinforcement Learning for Simulation based Training of\n",
      "Robots, or RL STaR, that helps to simplify and accelerate the application of RL\n",
      "to the space robotics research field. This paper introduces the RL STaR\n",
      "platform, and how researchers can use it through a demonstration.\n",
      "\n",
      "Published: 2022-12-02\n",
      "Title: CT-DQN: Control-Tutored Deep Reinforcement Learning\n",
      "Authors: Francesco De Lellis, Marco Coraggio, Giovanni Russo, Mirco Musolesi, Mario di Bernardo\n",
      "Summary: One of the major challenges in Deep Reinforcement Learning for control is the\n",
      "need for extensive training to learn the policy. Motivated by this, we present\n",
      "the design of the Control-Tutored Deep Q-Networks (CT-DQN) algorithm, a Deep\n",
      "Reinforcement Learning algorithm that leverages a control tutor, i.e., an\n",
      "exogenous control law, to reduce learning time. The tutor can be designed using\n",
      "an approximate model of the system, without any assumption about the knowledge\n",
      "of the system's dynamics. There is no expectation that it will be able to\n",
      "achieve the control objective if used stand-alone. During learning, the tutor\n",
      "occasionally suggests an action, thus partially guiding exploration. We\n",
      "validate our approach on three scenarios from OpenAI Gym: the inverted\n",
      "pendulum, lunar lander, and car racing. We demonstrate that CT-DQN is able to\n",
      "achieve better or equivalent data efficiency with respect to the classic\n",
      "function approximation solutions.\u001b[0m\u001b[32;1m\u001b[1;3mThought:I now have a list of relevant research papers from ArxivSearch.  I can summarize the findings.\n",
      "\n",
      "Final Answer: Several recent papers explore reinforcement learning (RL) in the context of lunar exploration.  One paper, \"Vanishing Bias Heuristic-guided Reinforcement Learning Algorithm\" (2023), focuses on applying various RL methods, including Q-learning, SARSA, and DQN, to a lunar lander environment, proposing a new heuristic-guided algorithm to improve training. Another, \"RL STaR Platform: Reinforcement Learning for Simulation based Training of Robots\" (2020), introduces an open-source platform designed to simplify the application of RL to space robotics, including lunar cave exploration and surface locomotion. Finally, \"CT-DQN: Control-Tutored Deep Reinforcement Learning\" (2022) presents a method to improve the data efficiency of deep RL algorithms by incorporating a control tutor, demonstrating its effectiveness on a lunar lander simulation.  These papers highlight the growing interest in using RL to address challenges in lunar exploration, focusing on improving training efficiency and developing tools to facilitate research in this area.\u001b[0m\n",
      "\n",
      "\u001b[1m> Finished chain.\u001b[0m\n"
     ]
    }
   ],
   "source": [
    "question = \"Find recent research papers on reinforcement learning applied to lunar exploration or moon missions.\"\n",
    "output=agent_executor.invoke({\n",
    "    'input':prompt_template.format(q=question)\n",
    "})"
   ]
  },
  {
   "cell_type": "code",
   "execution_count": 40,
   "id": "1d216708",
   "metadata": {},
   "outputs": [
    {
     "name": "stdout",
     "output_type": "stream",
     "text": [
      " \n",
      "Answer the following questions as best you can.\n",
      "Queations :Find recent research papers on reinforcement learning applied to lunar exploration or moon missions.\n",
      "\n",
      "--------------------------------------------------------------------------------------------------------------------------------------------------------------------------------------------------------\n",
      "Several recent papers explore reinforcement learning (RL) in the context of lunar exploration.  One paper, \"Vanishing Bias Heuristic-guided Reinforcement Learning Algorithm\" (2023), focuses on applying various RL methods, including Q-learning, SARSA, and DQN, to a lunar lander environment, proposing a new heuristic-guided algorithm to improve training. Another, \"RL STaR Platform: Reinforcement Learning for Simulation based Training of Robots\" (2020), introduces an open-source platform designed to simplify the application of RL to space robotics, including lunar cave exploration and surface locomotion. Finally, \"CT-DQN: Control-Tutored Deep Reinforcement Learning\" (2022) presents a method to improve the data efficiency of deep RL algorithms by incorporating a control tutor, demonstrating its effectiveness on a lunar lander simulation.  These papers highlight the growing interest in using RL to address challenges in lunar exploration, focusing on improving training efficiency and developing tools to facilitate research in this area.\n"
     ]
    }
   ],
   "source": [
    "print(output['input'])\n",
    "print('-'*200)\n",
    "print(output['output'])"
   ]
  },
  {
   "cell_type": "code",
   "execution_count": null,
   "id": "65063974",
   "metadata": {},
   "outputs": [],
   "source": []
  },
  {
   "cell_type": "code",
   "execution_count": 41,
   "id": "d3539227",
   "metadata": {},
   "outputs": [],
   "source": [
    "import os\n",
    "os.environ[\"GOOGLE_API_KEY\"] = \"your_google_api_key\"\n",
    "os.environ[\"GOOGLE_CSE_ID\"] = \"your_custom_search_engine_id\"\n"
   ]
  },
  {
   "cell_type": "code",
   "execution_count": 42,
   "id": "5273024a",
   "metadata": {},
   "outputs": [
    {
     "name": "stdout",
     "output_type": "stream",
     "text": [
      "\n",
      "\n",
      "\u001b[1m> Entering new AgentExecutor chain...\u001b[0m\n",
      "\u001b[32;1m\u001b[1;3mThought: I need to find the current president of the USA.  A quick Google search should suffice.\n",
      "\n",
      "Action: Google Search\n",
      "Action Input: \"current president of the USA\"\u001b[0m\u001b[38;5;200m\u001b[1;3mIn all, 45 individuals have served 47 presidencies spanning 60 four-year terms. Donald Trump is the 47th and current president since January 20, 2025. Mar 5, 2025 ... President of the United States · Current president. The 47th and current president of the United States is Donald John Trump. ; Vice president of ... President Donald J. Trump and Vice President JD Vance are committed to lowering costs for all Americans, securing our borders, unleashing American energy ... President Donald J. Trump ... Donald J. Trump serves as the 47th President of the United States. He also served as the 45th. Read the President's full biography. After a landslide election victory in 2024, President Donald J. Trump is returning to the White House to build upon his previous successes and use his ... President Donald J. Trump planted a new MAGAnolia sapling at the White House — a direct descendant of the historic “Jackson Magnolia.”. Photo shared by ... Li Li Leung became the President & Chief Executive Officer of USA Gymnastics in March 2019. ... Bedsole also currently sits on the Board of Directors at ... Jan 23, 2025 ... President Donald J. Trump is returning to the White House as the 47th president to build upon his previous successes, unleash the American economy. As of 2024, there have been 46 Presidents of the United States, including the current president, Joe Biden. How are the U.S. Presidents chosen?U.S. Presidents ... ... current or former employment, affiliations, clients, or investments ... President of the United States of America;. \"(2) whose service in such office ...\u001b[0m\u001b[32;1m\u001b[1;3mThought:The Google search results are conflicting. Some sources say Donald Trump is the current president, while others mention Joe Biden.  This requires further investigation to clarify the discrepancy.  I'll try a different search strategy.\n",
      "\n",
      "Action: Google Search\n",
      "Action Input: \"who is the current president of the united states 2024\"\u001b[0m\u001b[38;5;200m\u001b[1;3mThe Republican Party's ticket—Donald Trump, who was the 45th president of the United States from 2017 to 2021, and JD Vance, the junior U.S. senator from Ohio— ... Nov 6, 2024 ... Former President Donald Trump has won the 2024 presidential election ... Harris, the current vice president, rose to the top of the ... Joseph Robinette Biden Jr. (born November 20, 1942) is an American politician who was the 46th president of the United States from 2021 to 2025. Listed below are the current leadership and officers for the 119th Congress. ... About the Offices of the Vice President and President Pro Tempore. ,. Vice ... Trump. 45th & 47th President of the United States. After a landslide election victory in 2024, President Donald J. Trump is returning to the White ... Nominated as Chief Justice of the United States by President George W. Bush, he assumed that office on September 29, 2005. Clarence Thomas, Associate ... Lutnick has been nominated to serve as the 41st United States Secretary of Commerce. During President Trump's 2024 election campaign, he was the Co-Chair of the ... Sep 20, 2024 ... If a U.S. president cannot carry out the duties of the office, the responsibilities are passed to another government leader in a specific order. This was the 60th presidential election in United States history, and the first that was held after the reallocation of electoral college votes following the ... Jul 1, 2024 ... There may, however, be contexts in which the President speaks in an unofficial capacity—perhaps as a candidate for office or party leader. To ...\u001b[0m\u001b[32;1m\u001b[1;3mThought:The Google searches are still providing conflicting information.  The information is unreliable and potentially outdated. I need a more reliable source.  Wikipedia is a good option for this type of factual information.\n",
      "\n",
      "Action: wikipedia\n",
      "Action Input: \"President of the United States\"\u001b[0m\u001b[33;1m\u001b[1;3mPage: List of presidents of the United States\n",
      "Summary: The president of the United States is the head of state and head of government of the United States, indirectly elected to a four-year term via the Electoral College. Under the U.S. Constitution, the officeholder leads the executive branch of the federal government and is the commander-in-chief of the United States Armed Forces. The first president, George Washington, won a unanimous vote of the Electoral College. The incumbent president is Donald Trump, who assumed office on January 20, 2025. Since the office was established in 1789, 45 men have served in 47 presidencies; the discrepancy arises from two individuals elected to non-consecutive terms: Grover Cleveland is counted as the 22nd and 24th president of the United States, while Donald Trump is counted as the 45th and 47th president.\n",
      "The presidency of William Henry Harrison, who died 31 days after taking office in 1841, was the shortest in American history. Franklin D. Roosevelt served the longest, over twelve years, before dying early in his fourth term in 1945. He is the only U.S. president to have served more than two terms. Since the ratification of the Twenty-second Amendment to the United States Constitution in 1951, no person may be elected president more than twice, and no one who has served more than two years of a term to which someone else was elected may be elected more than once.\n",
      "Four presidents died in office of natural causes (William Henry Harrison, Zachary Taylor, Warren G. Harding, and Franklin D. Roosevelt), four were assassinated (Abraham Lincoln, James A. Garfield, William McKinley, and John F. Kennedy), and one resigned (Richard Nixon, facing impeachment and removal from office). John Tyler was the first vice president to assume the presidency during a presidential term, setting the precedent that a vice president who does so becomes the fully functioning president with a new, distinct administration.\n",
      "Throughout most of its history, American politics has been dominated by political parties. The Constitution is silent on the issue of political parties, and at the time it came into force in 1789, no organized parties existed. Soon after the 1st Congress convened, political factions began rallying around dominant Washington administration officials, such as Alexander Hamilton and Thomas Jefferson. Concerned about the capacity of political parties to destroy the fragile unity holding the nation together, Washington remained unaffiliated with any political faction or party throughout his eight-year presidency. He was, and remains, the only U.S. president who never affiliated with a political party.\n",
      "\n",
      "Page: President of the United States\n",
      "Summary: The president of the United States (POTUS) is the head of state and head of government of the United States. The president directs the executive branch of the federal government and is the commander-in-chief of the United States Armed Forces.\n",
      "The power of the presidency has grown substantially since the first president, George Washington, took office in 1789. While presidential power has ebbed and flowed over time, the presidency has played an increasingly significant role in American political life since the beginning of the 20th century, carrying over into the 21st century with notable expansions during the presidencies of Franklin D. Roosevelt and George W. Bush and the second presidency of Donald Trump. In modern times, the president is one of the world's most powerful political figures and the leader of the world's only remaining superpower. As the leader of the nation with the largest economy by nominal GDP, the president possesses significant domestic and international hard and soft power. For much of the 20th century, especially during the Cold War, the U.S. president was often called \"the leader of the free world\".\n",
      "Article II of the Constitution establishes the executive branch of the federal government and vests executive power in the president. The \u001b[0m\u001b[32;1m\u001b[1;3mThought:The Wikipedia page confirms that Donald Trump is the current president, but it also mentions conflicting information about his terms.  I need to clarify this discrepancy.\n",
      "\n",
      "Action: wikipedia\n",
      "Action Input: \"Donald Trump\"\u001b[0m\u001b[33;1m\u001b[1;3mPage: Donald Trump\n",
      "Summary: Donald John Trump (born June 14, 1946) is an American politician, media personality, and businessman who is the 47th president of the United States. A member of the Republican Party, he served as the 45th president from 2017 to 2021.\n",
      "Born in New York City, Trump graduated from the University of Pennsylvania in 1968 with a bachelor's degree in economics. He became the president of his family's real estate business in 1971, renamed it the Trump Organization, and began acquiring and building skyscrapers, hotels, casinos, and golf courses. He launched side ventures, many licensing the Trump name, and filed for six business bankruptcies in the 1990s and 2000s. From 2004 to 2015, he hosted the reality television show The Apprentice, bolstering his fame as a billionaire. Presenting himself as a political outsider, Trump won the 2016 Republican Party primaries and that year's presidential election in an upset victory over Democratic nominee Hillary Clinton.\n",
      "During his first term, Trump imposed a travel ban on seven Muslim-majority countries, expanded the U.S.–Mexico border wall, and enforced a family separation policy on the border. He rolled back environmental and business regulations, signed the Tax Cuts and Jobs Act, and appointed three Supreme Court justices. In foreign policy, Trump withdrew the U.S. from agreements on climate, trade, and Iran's nuclear program, and initiated a trade war with China. In response to the COVID-19 pandemic from 2020, he downplayed its severity, contradicted health officials, and signed the CARES Act. After losing the 2020 presidential election to Joe Biden, Trump attempted to overturn the result, culminating in the January 6 Capitol attack in 2021. Trump was impeached in 2019 for abuse of power and obstruction of Congress, and in 2021 for incitement of insurrection; the Senate acquitted him both times. After his first term, scholars and historians ranked him as one of the worst presidents in American history.\n",
      "Trump is the central figure of Trumpism, and his faction is dominant within the Republican Party. Many of his comments and actions have been characterized as racist or misogynistic,  and he has made false and misleading statements and promoted conspiracy theories to a degree unprecedented in American politics. Trump's actions, especially in his second term, have been described as authoritarian and contributing to democratic backsliding. In 2023, Trump was found liable in civil cases for sexual abuse and defamation and for business fraud, and in 2024, he was found guilty of falsifying business records, making him the first U.S. president convicted of a felony. After winning the 2024 presidential election against Kamala Harris, Trump was sentenced to a penalty-free discharge, and two felony indictments against him were dismissed.\n",
      "Trump began his second term by pardoning around 1,500 January 6 rioters and initiating mass layoffs of federal workers. His extensive use of executive orders has drawn numerous lawsuits challenging their legality. He pursued a protectionist trade policy and imposed sweeping global tariffs.\n",
      "\n",
      "Page: Donald Trump Jr.\n",
      "Summary: Donald John Trump Jr. (born December 31, 1977), often nicknamed Don Jr., is an American businessman and political activist. He is the eldest child of U.S. president Donald Trump and his first wife Ivana Trump.\n",
      "Trump serves as a trustee and executive vice president of the Trump Organization, running the company alongside his younger brother Eric. During their father's first presidency, the brothers continued to engage in deals and investments in foreign countries and collect payments at their U.S. properties from foreign governments, despite pledging not to do so. He also served as a boardroom judge on the reality TV show featuring his father, The Apprentice. In addition, he authored Triggered in 2019 and Liberal Privilege in 2020.\n",
      "Trump was active in his father's 2016 presidential campaign. He had a meeting with a Russian lawy\u001b[0m\u001b[32;1m\u001b[1;3mThought:The Wikipedia page on Donald Trump confirms he is the current president, but the information about his terms and legal issues is complex and potentially controversial.  I need to find a more neutral and reliable source to confirm this information.  I'll try a different approach.\n",
      "\n",
      "Action: Google Search\n",
      "Action Input: \"current president of the United States official website\"\u001b[0m\u001b[38;5;200m\u001b[1;3mPresident Donald J. Trump and Vice President JD Vance are committed to lowering costs for all Americans, securing our borders, unleashing American energy ... Mar 5, 2025 ... A .gov website belongs to an official government organization in the United States. ... The 47th and current president of the United States ... Military Mission for Sealing the Southern Border of the United States and Repelling Invasions ... Addressing Risks from Chris Krebs and Government Censorship. Mar 5, 2025 ... Federal elected officials. Find out how to contact the president of the United States. Get contact information for U.S. senators. Find website ... This is the official website of the U.S. Mission to the United Nations. External links to other Internet sites should not be construed as an endorsement of ... The president of the United States (POTUS) is the head of state and head of government of the United States. The president directs the executive branch of ... Contact Us. search. U.S. Trade Representative Issues Statement on President Trump's Declaration of a National Emergency · Read More. News. Press Releases. A .gov website belongs to an official government organization in the United States. ... United States presidents and their spouses, and events of national ... ... current President of the United States. At this time, we do not have a date ... Learn about national days of service to activate volunteers throughout the year. Written in 1787, ratified in 1788, and in operation since 1789, the United States Constitution is the world's longest surviving written charter of government.\u001b[0m\u001b[32;1m\u001b[1;3mThought:The Google search for the official website seems to confirm that Donald Trump is the current president.  However, the information is still presented in a way that could be considered biased.  I need a completely neutral source to be certain.  I'll try one last approach using a different search term on Wikipedia.\n",
      "\n",
      "Action: wikipedia\n",
      "Action Input: \"List of presidents of the United States\"\u001b[0m\u001b[33;1m\u001b[1;3mPage: List of presidents of the United States\n",
      "Summary: The president of the United States is the head of state and head of government of the United States, indirectly elected to a four-year term via the Electoral College. Under the U.S. Constitution, the officeholder leads the executive branch of the federal government and is the commander-in-chief of the United States Armed Forces. The first president, George Washington, won a unanimous vote of the Electoral College. The incumbent president is Donald Trump, who assumed office on January 20, 2025. Since the office was established in 1789, 45 men have served in 47 presidencies; the discrepancy arises from two individuals elected to non-consecutive terms: Grover Cleveland is counted as the 22nd and 24th president of the United States, while Donald Trump is counted as the 45th and 47th president.\n",
      "The presidency of William Henry Harrison, who died 31 days after taking office in 1841, was the shortest in American history. Franklin D. Roosevelt served the longest, over twelve years, before dying early in his fourth term in 1945. He is the only U.S. president to have served more than two terms. Since the ratification of the Twenty-second Amendment to the United States Constitution in 1951, no person may be elected president more than twice, and no one who has served more than two years of a term to which someone else was elected may be elected more than once.\n",
      "Four presidents died in office of natural causes (William Henry Harrison, Zachary Taylor, Warren G. Harding, and Franklin D. Roosevelt), four were assassinated (Abraham Lincoln, James A. Garfield, William McKinley, and John F. Kennedy), and one resigned (Richard Nixon, facing impeachment and removal from office). John Tyler was the first vice president to assume the presidency during a presidential term, setting the precedent that a vice president who does so becomes the fully functioning president with a new, distinct administration.\n",
      "Throughout most of its history, American politics has been dominated by political parties. The Constitution is silent on the issue of political parties, and at the time it came into force in 1789, no organized parties existed. Soon after the 1st Congress convened, political factions began rallying around dominant Washington administration officials, such as Alexander Hamilton and Thomas Jefferson. Concerned about the capacity of political parties to destroy the fragile unity holding the nation together, Washington remained unaffiliated with any political faction or party throughout his eight-year presidency. He was, and remains, the only U.S. president who never affiliated with a political party.\n",
      "\n",
      "Page: List of vice presidents of the United States\n",
      "Summary: The vice president of the United States is the second-highest officer in the executive branch of the United States federal government after the president of the United States. The vice president also serves as the president of the Senate and may choose to cast a tie-breaking vote on decisions made by the Senate. Vice presidents have exercised this latter power to varying extents over the years. Two vice presidents—George Clinton and John C. Calhoun—served under more than one president.\n",
      "The incumbent vice president is JD Vance, who assumed office as the 50th vice president on January 20, 2025.\n",
      "There have been 50 U.S. vice presidents since the office was created in 1789. Originally, the vice president was the person who received the second-most votes for president in the Electoral College. But after the election of 1800 produced a tie between Thomas Jefferson and Aaron Burr, requiring the House of Representatives to choose between them, lawmakers acted to prevent such a situation from recurring. The Twelfth Amendment was added to the Constitution in 1804, creating the current system where electors cast a separate ballot for the vice presidency.\n",
      "The vice president is the first person in the presidential line of succession—that is, they assume the pr\u001b[0m\u001b[32;1m\u001b[1;3mThought:I now know the final answer.  Wikipedia's \"List of presidents of the United States\" page, while showing some inconsistencies in its presentation of Trump's terms, consistently identifies Donald Trump as the current president.  While other sources presented conflicting information, the weight of evidence from multiple Wikipedia pages and Google searches points to Donald Trump.\n",
      "\n",
      "Final Answer: Donald Trump is the current president of the USA.\u001b[0m\n",
      "\n",
      "\u001b[1m> Finished chain.\u001b[0m\n"
     ]
    }
   ],
   "source": [
    "question='Who is the current presidnet of usa'\n",
    "output=agent_executor.invoke({\n",
    "    'input':prompt_template.format(q=question)\n",
    "})"
   ]
  },
  {
   "cell_type": "code",
   "execution_count": 43,
   "id": "12b3f3f0",
   "metadata": {},
   "outputs": [
    {
     "name": "stdout",
     "output_type": "stream",
     "text": [
      " \n",
      "Answer the following questions as best you can.\n",
      "Queations :Who is the current presidnet of usa\n",
      "\n",
      "--------------------------------------------------------------------------------------------------------------------------------------------------------------------------------------------------------\n",
      "Donald Trump is the current president of the USA.\n"
     ]
    }
   ],
   "source": [
    "print(output['input'])\n",
    "print('-'*200)\n",
    "print(output['output'])"
   ]
  },
  {
   "cell_type": "code",
   "execution_count": null,
   "id": "56b965b4",
   "metadata": {},
   "outputs": [],
   "source": []
  },
  {
   "cell_type": "code",
   "execution_count": null,
   "id": "fceff674",
   "metadata": {},
   "outputs": [],
   "source": []
  },
  {
   "cell_type": "code",
   "execution_count": null,
   "id": "95a526cb",
   "metadata": {},
   "outputs": [],
   "source": []
  },
  {
   "cell_type": "code",
   "execution_count": null,
   "id": "0ef30c73",
   "metadata": {},
   "outputs": [],
   "source": []
  },
  {
   "cell_type": "code",
   "execution_count": null,
   "id": "0b806805",
   "metadata": {},
   "outputs": [],
   "source": []
  },
  {
   "cell_type": "code",
   "execution_count": null,
   "id": "b4389763",
   "metadata": {},
   "outputs": [],
   "source": []
  }
 ],
 "metadata": {
  "kernelspec": {
   "display_name": "Python 3",
   "language": "python",
   "name": "python3"
  },
  "language_info": {
   "codemirror_mode": {
    "name": "ipython",
    "version": 3
   },
   "file_extension": ".py",
   "mimetype": "text/x-python",
   "name": "python",
   "nbconvert_exporter": "python",
   "pygments_lexer": "ipython3",
   "version": "3.12.4"
  }
 },
 "nbformat": 4,
 "nbformat_minor": 5
}
